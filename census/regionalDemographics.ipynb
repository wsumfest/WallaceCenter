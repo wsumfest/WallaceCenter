{
 "cells": [
  {
   "cell_type": "code",
   "execution_count": 1,
   "metadata": {
    "collapsed": false
   },
   "outputs": [],
   "source": [
    "import demographics\n",
    "import sys\n",
    "import os\n",
    "import xlrd\n",
    "import subprocess\n",
    "import numpy\n",
    "import matplotlib.pyplot as plt"
   ]
  },
  {
   "cell_type": "code",
   "execution_count": 2,
   "metadata": {
    "collapsed": true
   },
   "outputs": [],
   "source": [
    "DMA_DEMO_FILE = \"DMABYZIP1617.xls\"\n",
    "currZipsForDMA = []\n",
    "FRESNO = 866\n",
    "BAYAREA = 807\n",
    "MONTEREYSALINAS = 828\n",
    "currDMA = BAYAREA\n",
    "\n"
   ]
  },
  {
   "cell_type": "code",
   "execution_count": 3,
   "metadata": {
    "collapsed": false
   },
   "outputs": [],
   "source": [
    "os.chdir(\"/Users/willsumfest/preto3/census/dmaFiles\")\n",
    "dmaWorkbook = xlrd.open_workbook(DMA_DEMO_FILE)\n",
    "sh = dmaWorkbook.sheet_by_index(0)\n",
    "for index in range(sh.nrows):\n",
    "    zipVal = sh.cell_value(rowx=index, colx=1)\n",
    "    if type(zipVal) == int or type(zipVal) == float:\n",
    "        if int(zipVal) == currDMA:\n",
    "            currZipsForDMA.append(sh.cell_value(rowx=index, colx=0))\n",
    "    "
   ]
  },
  {
   "cell_type": "code",
   "execution_count": 4,
   "metadata": {
    "collapsed": false
   },
   "outputs": [
    {
     "data": {
      "text/plain": [
       "'\\nIf this section is not working, then manually run the census simulation from the terminal.\\n'"
      ]
     },
     "execution_count": 4,
     "metadata": {},
     "output_type": "execute_result"
    }
   ],
   "source": [
    "\"\"\"\n",
    "If this section is not working, then manually run the census simulation from the terminal.\n",
    "\"\"\"\n",
    "\n",
    "# os.chdir(\"/Users/willsumfest/preto3\")\n",
    "# p = subprocess.Popen('bash census_simulation.sh', shell=True, stdout=subprocess.PIPE, stderr=subprocess.STDOUT)\n",
    "# for line in p.stdout.readlines():\n",
    "#     print line\n",
    "# retval = p.wait()\n",
    "\n",
    "# print \"done\"\n",
    "    "
   ]
  },
  {
   "cell_type": "code",
   "execution_count": 5,
   "metadata": {
    "collapsed": false
   },
   "outputs": [
    {
     "name": "stdout",
     "output_type": "stream",
     "text": [
      "/Users/willsumfest/preto3/census/analysis/zip_codes/2017-06-30-11:09.txt\n"
     ]
    }
   ],
   "source": [
    "os.chdir('/Users/willsumfest/preto3/census/analysis/zip_codes')\n",
    "\n",
    "files = os.listdir(\".\")\n",
    "paths = [os.path.join(os.getcwd(), f) for f in files]\n",
    "last_file = max(paths, key=os.path.getctime)\n",
    "print last_file"
   ]
  },
  {
   "cell_type": "code",
   "execution_count": 6,
   "metadata": {
    "collapsed": false
   },
   "outputs": [
    {
     "name": "stdout",
     "output_type": "stream",
     "text": [
      "Female Reproductive percentage upper bound: 0.279577266579\n",
      "Female Reproductive percentage mean: 0.20405545532\n",
      "Female Reproductive percentage lower bound: 0.128502740336\n",
      "Male Reproductive percentage upper bound: 0.290018662896\n",
      "Male Reproductive percentage mean: 0.210441322443\n",
      "Male Reproductive percentage lower bound: 0.13083332451\n",
      "Total Reproductive percentage upper bound: 0.569595929474\n",
      "Total Reproductive percentage mean: 0.414496777763\n",
      "Total Reproductive percentage lower bound: 0.259336064845\n",
      "Weighted Mean of Median Ages: 38\n",
      "Weighted Mean of Median Ages Upper Bound: 40\n",
      "Weighted Mean of Median Ages Lower Bound: 36\n",
      "Weighted Mean of Median Income: 84905\n",
      "Weighted Mean of Median Income Upper Bound: 93647\n",
      "Weighted Mean of Median Income Lower Bound: 76162\n"
     ]
    }
   ],
   "source": [
    "dmaPopulation = 0\n",
    "dmaUpperBoundPopulation = 0\n",
    "dmaLowerBoundPopulation = 0\n",
    "dmaPopForReproductiveMales = 0\n",
    "dmaUpperBoundRepMale = 0\n",
    "dmaLowerBoundRepMale = 0\n",
    "dmaPopForReproductiveFemales = 0\n",
    "dmaUpperBoundRepFemale = 0\n",
    "dmaLowerBoundRepFemale = 0\n",
    "\n",
    "dmaMedianAgeWeightedEstimateTotal = 0\n",
    "dmaMedianAgeWeightedEstimateUpper = 0\n",
    "dmaMedianAgeWeightedEstimateLower = 0\n",
    "\n",
    "dmaMedianIncomeWeightedEstimateTotal = 0\n",
    "dmaMedianIncomeWeightedEstimateUpper = 0\n",
    "dmaMedianIncomeWeightedEstimateLower = 0\n",
    "\n",
    "\n",
    "dmaForeignBornPopMean = 0\n",
    "dmaForeignBornPopUpper = 0\n",
    "dmaForeignBornPopLower = 0\n",
    "\n",
    "\n",
    "with open(last_file) as data_file:\n",
    "    noDataZips = data_file.readline().split(\":\")[1].split(\",\")\n",
    "    noDataZips[-1] = noDataZips[-1][:-2]\n",
    "    for i in range(len(noDataZips)):\n",
    "        noDataZips[i] = int(noDataZips[i].strip())\n",
    "    noDataZips = set(noDataZips)\n",
    "    for code in currZipsForDMA:\n",
    "        if code in noDataZips:\n",
    "            print code\n",
    "            currZipsforDMA.remove(code)\n",
    "    cleaned_data = map(lambda x: x.split(\"\\n\"), data_file.read().split(\"\\n\\n\\n\"))\n",
    "    for i in range(len(cleaned_data)):\n",
    "        entry = cleaned_data[i]\n",
    "        cleaned_entry = [x for x in entry if x != '']\n",
    "        cleaned_data[i] = cleaned_entry\n",
    "    for code in currZipsForDMA:\n",
    "        for entry in cleaned_data:\n",
    "            if entry == []:\n",
    "                continue\n",
    "            else:\n",
    "                zipcode = int(entry[0].split(\":\")[1][:-1])\n",
    "                if int(zipcode) == int(code):\n",
    "                    total_population = int(entry[1].split(\":\")[1][:-1].split(\".\")[0])\n",
    "                    total_population_upper = entry[2].split(\":\")[1].split(\",\")[1].split(\".\")[0]\n",
    "                    total_population_lower = entry[2].split(\":\")[1].split(\",\")[0].split(\".\")[0]\n",
    "                    dmaUpperBoundPopulation += int(total_population_upper)\n",
    "                    dmaLowerBoundPopulation += int(total_population_lower)\n",
    "                    dmaPopulation += total_population\n",
    "                    reproductive_male_population = int(entry[3].split(\":\")[1][:-1].split(\".\")[0])\n",
    "                    dmaPopForReproductiveMales += reproductive_male_population\n",
    "                    \n",
    "                    dmaUpperBoundRepMale += int(entry[4].split(\":\")[1].split(\",\")[1].split(\".\")[0])\n",
    "                    dmaLowerBoundRepMale += int(entry[4].split(\":\")[1].split(\",\")[0].split(\".\")[0])\n",
    "                    \n",
    "                    reproductive_female_population = int(entry[5].split(\":\")[1][:-1].split(\".\")[0])\n",
    "                    dmaPopForReproductiveFemales += reproductive_female_population\n",
    "                    \n",
    "                    dmaUpperBoundRepFemale += int(entry[6].split(\":\")[1].split(\",\")[1].split(\".\")[0])\n",
    "                    dmaLowerBoundRepFemale += int(entry[6].split(\":\")[1].split(\",\")[0].split(\".\")[0])\n",
    "                    \n",
    "                    dmaMedianAgeWeightedEstimateTotal += total_population * int(entry[7].split(\":\")[1][:-1].split(\".\")[0])\n",
    "                    dmaMedianAgeWeightedEstimateUpper += total_population * int(entry[8].split(\":\")[1].split(\",\")[1].split(\".\")[0])\n",
    "                    dmaMedianAgeWeightedEstimateLower += total_population * int(entry[8].split(\":\")[1].split(\",\")[0].split(\".\")[0])\n",
    "                    \n",
    "                    dmaMedianIncomeWeightedEstimateTotal += total_population * int(entry[9].split(\":\")[1][:-1].split(\".\")[0])\n",
    "                    dmaMedianIncomeWeightedEstimateUpper += total_population * int(entry[10].split(\":\")[1].split(\",\")[1].split(\".\")[0])\n",
    "                    dmaMedianIncomeWeightedEstimateLower += total_population * int(entry[10].split(\":\")[1].split(\",\")[0].split(\".\")[0])\n",
    "                    \n",
    "print \"Female Reproductive percentage upper bound:\" , dmaUpperBoundRepFemale / float(dmaPopulation)\n",
    "print \"Female Reproductive percentage mean:\", dmaPopForReproductiveFemales / float(dmaPopulation)\n",
    "print \"Female Reproductive percentage lower bound:\", dmaLowerBoundRepFemale / float(dmaPopulation)\n",
    "print \"Male Reproductive percentage upper bound:\" , dmaUpperBoundRepMale / float(dmaPopulation)\n",
    "print \"Male Reproductive percentage mean:\", dmaPopForReproductiveMales / float(dmaPopulation)\n",
    "print \"Male Reproductive percentage lower bound:\", dmaLowerBoundRepMale / float(dmaPopulation)\n",
    "print \"Total Reproductive percentage upper bound:\" , (dmaUpperBoundRepFemale  + dmaUpperBoundRepMale) / float(dmaPopulation)\n",
    "print \"Total Reproductive percentage mean:\", (dmaPopForReproductiveFemales + dmaPopForReproductiveMales) / float(dmaPopulation)\n",
    "print \"Total Reproductive percentage lower bound:\", (dmaLowerBoundRepFemale + dmaLowerBoundRepMale) / float(dmaPopulation)\n",
    "print \"Weighted Mean of Median Ages:\", dmaMedianAgeWeightedEstimateTotal / dmaPopulation\n",
    "print \"Weighted Mean of Median Ages Upper Bound:\", dmaMedianAgeWeightedEstimateUpper / dmaPopulation\n",
    "print \"Weighted Mean of Median Ages Lower Bound:\", dmaMedianAgeWeightedEstimateLower / dmaPopulation\n",
    "print \"Weighted Mean of Median Income:\", dmaMedianIncomeWeightedEstimateTotal / dmaPopulation\n",
    "print \"Weighted Mean of Median Income Upper Bound:\", dmaMedianIncomeWeightedEstimateUpper / dmaPopulation\n",
    "print \"Weighted Mean of Median Income Lower Bound:\", dmaMedianIncomeWeightedEstimateLower / dmaPopulation\n",
    "\n",
    "\n",
    "                    "
   ]
  },
  {
   "cell_type": "code",
   "execution_count": 7,
   "metadata": {
    "collapsed": false
   },
   "outputs": [
    {
     "data": {
      "image/png": "[encoded data removed]",
      "text/plain": [
       "<matplotlib.figure.Figure at 0x10e61bc50>"
      ]
     },
     "metadata": {},
     "output_type": "display_data"
    }
   ],
   "source": [
    "dmas = [\"San Franscisco Bay Area\", \"Fresno-Visalia\", \"Monterey-Salinas\"]\n",
    "bayArea = [84905]\n",
    "bayAreaSD = .10297\n",
    "bayAreaErr = bayAreaSD*bayArea[0]\n",
    "fresno = [45295]\n",
    "fresnoSD = .136019\n",
    "fresnoErr = fresnoSD*fresno[0]\n",
    "monterey = [62211]\n",
    "montereySD = .130395\n",
    "montereyErr = montereySD*monterey[0]\n",
    "california = [64500]\n",
    "californiaErr = 241\n",
    "\n",
    "\n",
    "# mean = [84905, 45295, 62211]\n",
    "# upper = [93647, 51456, 70323]\n",
    "# lower = [76162, 39133, 54097]\n",
    "\n",
    "ind = numpy.arange(1)\n",
    "width = .20\n",
    "fig, ax = plt.subplots()\n",
    "\n",
    "rects1 = ax.bar(ind, bayArea, width, color='r', yerr=bayAreaErr)\n",
    "\n",
    "rects2 = ax.bar(ind + width, fresno, width, color='g', yerr=fresnoErr)\n",
    "\n",
    "rects3 = ax.bar(ind + (2*width), monterey, width, color='b', yerr=montereyErr)\n",
    "\n",
    "rects4 = ax.bar(ind + (3*width), california, width, color='y', yerr=californiaErr)\n",
    "\n",
    "ax.set_ylabel('Weighted Mean of Median Household Income')\n",
    "ax.set_title('Weighted Mean of Median Household Income by DMA')\n",
    "\n",
    "ax.legend((rects1[0], rects2[0], rects3[0], rects4[0]), (\"San Franscisco Bay Area\", \"Fresno-Visalia\", \"Monterey-Salinas\", \"California\"))\n",
    "plt.setp(ax.get_xticklabels(), visible=False)\n",
    "\n",
    "\n",
    "plt.show()\n",
    "\n"
   ]
  },
  {
   "cell_type": "code",
   "execution_count": 152,
   "metadata": {
    "collapsed": false
   },
   "outputs": [
    {
     "data": {
      "image/png": "[encoded data removed]",
      "text/plain": [
       "<matplotlib.figure.Figure at 0x10af61cd0>"
      ]
     },
     "metadata": {},
     "output_type": "display_data"
    }
   ],
   "source": [
    "monterey = [35]\n",
    "montereyErr = [[(35-32)/float(35)*monterey[0]], [(37-35)/float(35)*monterey[0]]]\n",
    "fresno = [31]\n",
    "fresnoErr = [[(31-28)/float(31)*fresno[0]], [(33-31)/float(31)*fresno[0]]]\n",
    "bayArea = [38]\n",
    "bayAreaErr = (40-38)/float(38)*bayArea[0]\n",
    "\n",
    "\n",
    "\n",
    "ind = numpy.arange(1)\n",
    "width = .25\n",
    "fig, ax = plt.subplots()\n",
    "\n",
    "rects1 = ax.bar(ind, bayArea, width, color='r', yerr=bayAreaErr)\n",
    "\n",
    "rects2 = ax.bar(ind + width, fresno, width, color='g', yerr=fresnoErr)\n",
    "\n",
    "rects3 = ax.bar(ind + (2*width), monterey, width, color='b', yerr=montereyErr)\n",
    "\n",
    "ax.set_ylabel('Weighted Mean of Median Age')\n",
    "ax.set_title('Weighted Mean of Median Age by DMA')\n",
    "\n",
    "ax.legend((rects1[0], rects2[0], rects3[0]), (\"San Franscisco Bay Area\", \"Fresno-Visalia\", \"Monterey-Salinas\"))\n",
    "plt.setp(ax.get_xticklabels(), visible=False)\n",
    "\n",
    "\n",
    "plt.show()"
   ]
  },
  {
   "cell_type": "code",
   "execution_count": null,
   "metadata": {
    "collapsed": true
   },
   "outputs": [],
   "source": []
  }
 ],
 "metadata": {
  "kernelspec": {
   "display_name": "Python 2",
   "language": "python",
   "name": "python2"
  },
  "language_info": {
   "codemirror_mode": {
    "name": "ipython",
    "version": 2
   },
   "file_extension": ".py",
   "mimetype": "text/x-python",
   "name": "python",
   "nbconvert_exporter": "python",
   "pygments_lexer": "ipython2",
   "version": "2.7.10"
  }
 },
 "nbformat": 4,
 "nbformat_minor": 1
}
